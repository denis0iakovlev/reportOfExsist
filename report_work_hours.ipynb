{
 "cells": [
  {
   "cell_type": "code",
   "execution_count": 1,
   "metadata": {},
   "outputs": [],
   "source": [
    "from utils.db_get_utils import get_filtered_gate_pass_times\n",
    "import pandas as pd\n",
    "from datetime import datetime, time, timedelta\n",
    "from IPython.display import display, HTML\n",
    "import shutil\n",
    "pd.set_option('display.width', 1000) \n",
    "pd.set_option('display.max_columns', None)"
   ]
  },
  {
   "cell_type": "code",
   "execution_count": 2,
   "metadata": {},
   "outputs": [
    {
     "name": "stdout",
     "output_type": "stream",
     "text": [
      "      id  isHoliday         timestamp pass_type  pass_type_id  person_id  gate_id\n",
      "0    674       True  2024-01-02 00:04      ВХОД             1      78029       56\n",
      "1    410       True  2024-01-02 02:56      ВХОД             1      39085       10\n",
      "2      1       True  2024-01-02 07:25      ВХОД             1      91048       20\n",
      "3      2       True  2024-01-02 07:26      ВХОД             1      91048       56\n",
      "4      3       True  2024-01-02 10:25     ВЫХОД             2      91048       20\n",
      "..   ...        ...               ...       ...           ...        ...      ...\n",
      "502  557      False  2024-12-30 14:53     ВЫХОД             2      42250       20\n",
      "503  467      False  2024-12-30 18:04     ВЫХОД             2      39085       56\n",
      "504  645      False  2024-12-31 00:17     ВЫХОД             2      78029       20\n",
      "505  870      False  2024-12-31 02:32      ВХОД             1      20312       56\n",
      "506  871      False  2024-12-31 21:19     ВЫХОД             2      20312       56\n",
      "\n",
      "[507 rows x 7 columns]\n",
      "    id  isHoliday           timestamp pass_type  pass_type_id  person_id  gate_id\n",
      "0  674       True 2024-01-02 00:04:00      ВХОД             1      78029       56\n",
      "1  410       True 2024-01-02 02:56:00      ВХОД             1      39085       10\n",
      "2    1       True 2024-01-02 07:25:00      ВХОД             1      91048       20\n",
      "3    2       True 2024-01-02 07:26:00      ВХОД             1      91048       56\n",
      "4    3       True 2024-01-02 10:25:00     ВЫХОД             2      91048       20\n",
      "5    4       True 2024-01-02 11:30:00      ВХОД             1      91048       20\n",
      "6    5       True 2024-01-02 17:25:00     ВЫХОД             2      91048       56\n",
      "7  411       True 2024-01-02 20:00:00     ВЫХОД             2      39085       10\n",
      "8  675       True 2024-01-03 00:44:00     ВЫХОД             2      78029       56\n",
      "9  524       True 2024-01-03 03:46:00      ВХОД             1      42250       20\n"
     ]
    }
   ],
   "source": [
    "yanuar_pass_list = get_filtered_gate_pass_times()\n",
    "df = pd.DataFrame(yanuar_pass_list)\n",
    "print(df)\n",
    "\n",
    "\n",
    "df['timestamp'] = pd.to_datetime(df['timestamp'])\n",
    "print(df.head(10))"
   ]
  },
  {
   "cell_type": "code",
   "execution_count": 3,
   "metadata": {},
   "outputs": [
    {
     "name": "stdout",
     "output_type": "stream",
     "text": [
      "    id  isHoliday           timestamp pass_type  pass_type_id  person_id  gate_id\n",
      "2    1       True 2024-01-02 07:25:00      ВХОД             1      91048       20\n",
      "3    2       True 2024-01-02 07:26:00      ВХОД             1      91048       56\n",
      "4    3       True 2024-01-02 10:25:00     ВЫХОД             2      91048       20\n",
      "5    4       True 2024-01-02 11:30:00      ВХОД             1      91048       20\n",
      "6    5       True 2024-01-02 17:25:00     ВЫХОД             2      91048       56\n",
      "19  76      False 2024-01-09 02:37:00      ВХОД             1      91048       10\n",
      "20  77      False 2024-01-09 18:00:00     ВЫХОД             2      91048       10\n",
      "22  54      False 2024-01-10 08:02:00      ВХОД             1      91048       20\n",
      "25  55      False 2024-01-10 17:02:00     ВЫХОД             2      91048       20\n",
      "27  46      False 2024-01-11 02:50:00      ВХОД             1      91048       10\n",
      "28  47      False 2024-01-11 21:25:00     ВЫХОД             2      91048       10\n",
      "33  74       True 2024-01-14 01:20:00      ВХОД             1      91048       10\n",
      "34  75      False 2024-01-15 00:53:00     ВЫХОД             2      91048       10\n",
      "41  90      False 2024-01-25 04:59:00      ВХОД             1      91048       10\n",
      "42  91      False 2024-01-25 20:32:00     ВЫХОД             2      91048       10\n"
     ]
    }
   ],
   "source": [
    "end_date = '2024-01-28'\n",
    "df = df[(df['person_id'] == 91048) & (df['timestamp'] < end_date) ]\n",
    "df = df.sort_values(by=['person_id', 'timestamp'])\n",
    "print(df)"
   ]
  },
  {
   "cell_type": "code",
   "execution_count": 4,
   "metadata": {},
   "outputs": [
    {
     "name": "stdout",
     "output_type": "stream",
     "text": [
      "Недействительные данные сотрудник id=91048 зашел в 2024-01-11 02:50:00 и вышел в 2024-01-11 21:25:00. что в сумме больше 18 часов\n",
      "Недействительные данные сотрудник id=91048 зашел в 2024-01-14 01:20:00 и вышел в 2024-01-15 00:53:00. что в сумме больше 18 часов\n",
      "   person_id          start_time            end_data        date  work_hours\n",
      "0      91048 2024-01-02 07:25:00 2024-01-02 10:25:00  2024-01-02    3.000000\n",
      "1      91048 2024-01-02 11:30:00 2024-01-02 17:25:00  2024-01-02    5.916667\n",
      "2      91048 2024-01-09 02:37:00 2024-01-09 18:00:00  2024-01-09   15.383333\n",
      "3      91048 2024-01-10 08:02:00 2024-01-10 17:02:00  2024-01-10    9.000000\n",
      "4      91048 2024-01-25 04:59:00 2024-01-25 20:32:00  2024-01-25   15.550000\n"
     ]
    }
   ],
   "source": [
    "#df['group_id'] = (df['pass_type'] != df['pass_type'].shift()).cumsum()\n",
    "df['date'] = df['timestamp'].dt.date \n",
    "work_times = []\n",
    "# Групируем по дням , что бы обойти все дни\n",
    "for person_id, group in df.groupby('person_id'):\n",
    "    # Добовляем новый столбец в группу который будет обозначать уникальный номер последовательности входов или выходов\n",
    "    # Если идет подряд записи о входе (или выходе) то в столбец попадет одинаковое число\n",
    "    group['group_id'] = (group['pass_type'] != group['pass_type'].shift()).cumsum()\n",
    "    # Группируем по данному столбцу\n",
    "    start_data = None\n",
    "    for _, group_id in group.groupby('group_id'):\n",
    "        type_pass_group = group_id.iloc[0]['pass_type']\n",
    "        if type_pass_group == 'ВХОД':\n",
    "            start_data = group_id.iloc[0]['timestamp']\n",
    "        else:\n",
    "            #если был выход считаем дельту и добавляем запись в массив , дату ставим \n",
    "            if start_data is not None :\n",
    "                #берем последнее время выхода\n",
    "                end_data = group_id.iloc[-1]['timestamp']\n",
    "                #считаем дельту , если дельта меньше чем 18 часов , то считаем что данные верны\n",
    "                work_duration = (end_data - start_data).total_seconds() / 3600\n",
    "                if work_duration <= 18:\n",
    "                    work_times.append({\n",
    "                        'person_id':person_id,\n",
    "                        'start_time': start_data,\n",
    "                        'end_data':end_data,\n",
    "                        'date':start_data.date(),\n",
    "                        'work_hours':work_duration\n",
    "                    })\n",
    "                else:\n",
    "                # обнуляем начальный вход и считаем что данные не действительны\n",
    "                    print(f\"Недействительные данные сотрудник id={person_id} зашел в {start_data} и вышел в {end_data}. что в сумме больше 18 часов\")\n",
    "                start_data = None\n",
    "\n",
    "result_df = pd.DataFrame(work_times)\n",
    "print(result_df)\n",
    "\n",
    "        \n",
    "    "
   ]
  }
 ],
 "metadata": {
  "kernelspec": {
   "display_name": "Python 3",
   "language": "python",
   "name": "python3"
  },
  "language_info": {
   "codemirror_mode": {
    "name": "ipython",
    "version": 3
   },
   "file_extension": ".py",
   "mimetype": "text/x-python",
   "name": "python",
   "nbconvert_exporter": "python",
   "pygments_lexer": "ipython3",
   "version": "3.11.1"
  }
 },
 "nbformat": 4,
 "nbformat_minor": 2
}
